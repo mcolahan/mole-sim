{
 "cells": [
  {
   "cell_type": "code",
   "execution_count": 2,
   "metadata": {},
   "outputs": [],
   "source": [
    "%matplotlib inline\n",
    "import numpy as np\n",
    "import pandas as pd\n",
    "import matplotlib.pyplot as plt\n"
   ]
  },
  {
   "cell_type": "code",
   "execution_count": 9,
   "metadata": {},
   "outputs": [
    {
     "name": "stdout",
     "output_type": "stream",
     "text": [
      "[[0.45 0.55]]\n",
      "[[0.435 0.565]]\n",
      "[[0.4305 0.5695]]\n",
      "[[0.42915 0.57085]]\n",
      "[[0.428745 0.571255]]\n",
      "[[0.4286235 0.5713765]]\n",
      "[[0.42858705 0.57141295]]\n",
      "[[0.42857611 0.57142388]]\n",
      "[[0.42857283 0.57142717]]\n",
      "[[0.42857185 0.57142815]]\n"
     ]
    }
   ],
   "source": [
    "prob = np.array([[0.6, 0.4],[0.3, 0.7]])\n",
    "\n",
    "init = np.array([[0.5, 0.5]])\n",
    "\n",
    "for n in range(10):\n",
    "    init = init @ prob\n",
    "    print(init)\n",
    "\n",
    "    "
   ]
  },
  {
   "cell_type": "code",
   "execution_count": 24,
   "metadata": {},
   "outputs": [
    {
     "name": "stdout",
     "output_type": "stream",
     "text": [
      "0.0\n",
      "1.0\n",
      "1.0\n"
     ]
    }
   ],
   "source": [
    "beta = 1  # beta = 1 / (k_b * T)\n",
    "T = 1 / beta\n",
    "\n",
    "# particle properties\n",
    "epsilon = 1,\n",
    "sigma = 1 \n",
    "mass = 1\n",
    "density = 0.5\n",
    "min_dist = 0.8\n",
    "\n",
    "# MC algorithm params:\n",
    "delta_rmax = 0.5\n",
    "delta_Vmax = 0.5\n",
    "\n",
    "n_dims = 3\n",
    "box_size = np.array([8,8,8])\n",
    "n_parts = int(density * np.prod(box_size))\n",
    "\n",
    "# def Lennard_Jones(r, moved_part=None, dist_cutoff=3):\n",
    "#     # r is a 2D array where row i, and col j correspond to particle i and dimension j (x:0, y:1, z:2)\n",
    "#     # outputs: a 3D array where f[i,j,k] is the force on i because of j in dimension k,\n",
    "#     # outputs a 2D array where u(i,j) is the potential between particles i and j\n",
    "#     # sum of potential energy, and virial for instantaneous pressure calcs\n",
    "    \n",
    "#     #             part i    part j  (x,y,z)\n",
    "\n",
    "# #     f = np.zeros([n_parts, n_parts, n_dims])\n",
    "#     E_p_sum = 0\n",
    "    \n",
    "#     virial = 0    # for pressure calculation\n",
    "\n",
    "#     for i in range(n_parts):\n",
    "#         # get position vectors and distances between particles \n",
    "#         r_ij_vect = r[i,:] - r[(i+1):,:]   \n",
    "#         r_ij_vect -= np.around(r_ij_vect / box_size) * box_size   #pbc\n",
    "        \n",
    "#         r_ij = np.sqrt(np.sum(r_ij_vect**2, axis=1))   # magnitude (norm) of r_ij_vect\n",
    "\n",
    "#         # get index of particles within range of the spherical cutoff\n",
    "#         parts_in_range = np.where(r_ij <= dist_cutoff)[0]\n",
    "        \n",
    "#         # distance magnitude of particles within the spherical cutoff\n",
    "#         r_near = r_ij[parts_in_range]   \n",
    "        \n",
    "#         # Lennard Jones\n",
    "#         # eq 5.3 in Allen and Tildesley 2nd ed\n",
    "#         # fij = -du(rij)/dr * unit vector of r_ij_vect\n",
    "#         f_mag = np.zeros([n_parts-i-1])\n",
    "#         f_mag[parts_in_range] = 24 * epsilon / r_near * (2 *\n",
    "#                 (sigma/r_near) ** 12 - (sigma/r_near) ** 6)\n",
    "                \n",
    "#         # new axis converts 1D array to a 2D array \n",
    "#         f_vect = f_mag[:, np.newaxis] * r_ij_vect/r_ij[:, np.newaxis]\n",
    "# #         f[i, (i+1):, :] =  f_vect\n",
    "# #         f[(i+1):, i, :] = -f_vect   # newton's 3rd law\n",
    "        \n",
    "        \n",
    "#         virial += np.sum(r_ij_vect * f_vect)\n",
    "        \n",
    "#         Ep = np.zeros([n_parts - i - 1])\n",
    "#         u[i, parts_in_range] = 4 * epsilon * ((sigma/r_near) ** 12 - (sigma/r_near) ** 6)\n",
    "#         Ep[parts_in_range] = 4 * epsilon * ((sigma/r_near) ** 12 - (sigma/r_near) ** 6)\n",
    "        \n",
    "#         E_p_sum += np.sum(Ep)\n",
    "\n",
    "#     virial = virial / 3\n",
    "#     return f, E_p_sum, virial\n",
    "\n",
    "\n",
    "\n",
    "\n",
    "\n",
    "init_locs = np.random.rand(n_parts, n_dims) * box_size\n",
    "min_dists = []\n",
    "for i in range(n_parts):\n",
    "    continue_looping = True\n",
    "    if i == 0:\n",
    "        continue\n",
    "    loop_count = 0\n",
    "    while continue_looping == True:\n",
    "        if loop_count > 10000:\n",
    "            raise InterruptedError('Loop was interrupted')\n",
    "\n",
    "        dr = init_locs[i,:] - init_locs[:i,:]\n",
    "        dr = dr - np.around(dr / box_size) * box_size   # PBC \n",
    "        dist = np.sqrt(np.sum(dr**2, axis=1))\n",
    "\n",
    "        if (dist < min_dist).any() == True:\n",
    "            init_locs[i, :] = np.random.rand(1, n_dims) * box_size\n",
    "        else:\n",
    "            continue_looping = False\n",
    "            min_dists.append(min(dist))\n",
    "\n",
    "        loop_count += 1\n",
    "\n",
    "\n",
    "\n",
    "def lennard_jones(r, u, w, part_moved=None):\n",
    "    \n",
    "    dist_cutoff = 3\n",
    "    for i in range(n_parts):\n",
    "        if part_moved is not None:\n",
    "            i = part_moved \n",
    "\n",
    "        r_ij_vect = r[i,:] - r[(i+1):,:]\n",
    "\n",
    "        r_ij_vect -= np.around(r_ij_vect / box_size) * box_size   #pbc\n",
    "        \n",
    "        r_ij = np.sqrt(np.sum(r_ij_vect**2, axis=1))   # magnitude (norm) of r_ij_vect\n",
    "\n",
    "        # get index of particles within range of the spherical cutoff\n",
    "        parts_in_range = np.where(r_ij <= dist_cutoff)[0]\n",
    "        \n",
    "        # distance magnitude of particles within the spherical cutoff\n",
    "        r_near = r_ij[parts_in_range] \n",
    "        \n",
    "        # reset row to zeros\n",
    "        u[i, (i+1):] = np.zeros(n_parts - i - 1)\n",
    "        w[i, (i + 1):] = np.zeros(n_parts - i - 1)\n",
    "        \n",
    "        sr_12 = (sigma / r_near) ** 12\n",
    "        sr_6 = (sigma / r_near) ** 6\n",
    "\n",
    "        u[i, (i + 1 + parts_in_range)] = (sr_12 - sr_6) * 4 * epsilon\n",
    "        w[i, (i + 1 + parts_in_range)] = (sr_6 - 2 * sr_12) * 24 * epsilon \n",
    "        \n",
    "        if part_moved is not None:\n",
    "            break\n",
    "            \n",
    "    return u, w\n",
    "\n",
    "part_locs = init_locs\n",
    "u = np.zeros([n_parts, n_parts])   # potential\n",
    "w = np.zeros([n_parts, n_parts])   # virial\n",
    "\n",
    "u, w = lennard_jones(part_locs, u, w, part_moved=None)\n",
    "\n",
    "for n in range(10):\n",
    "    old_config = part_locs\n",
    "    \n",
    "    # chose random step:\n",
    "    rand_num = np.random.rand()\n",
    "    rand_num = 0.7\n",
    "    if rand_num >= 0.5:\n",
    "        # move random particle\n",
    "        rand_part = int(np.random.rand() * n_parts)\n",
    "        rand_vect = np.random.rand(n_dims)\n",
    "        new_loc = part_locs[rand_part,:] + delta_rmax * (2 * rand_vect - 1) \n",
    "        \n",
    "        # update loc if out of box\n",
    "        new_loc = new_loc - np.floor(new_loc / box_size) * box_size\n",
    "        \n",
    "        new_locs = part_locs\n",
    "        new_locs[rand_part,:] = new_loc\n",
    "        \n",
    "        # update energy and virial with new location:\n",
    "        u_new, w_new = lennard_jones(new_locs, u, w, rand_part) \n",
    "        \n",
    "        delta_u = np.sum(u_new[rand_part,:] - u[rand_part,:])\n",
    "        print(delta_u)\n",
    "        alpha = np.exp(-beta * delta_u)\n",
    "        print(alpha)\n",
    "        \n",
    "    else:\n",
    "        # volume move\n",
    "        box_size_new = box_size + delta_Vmax * (2 * np.random.rand(n_dims) - 1)\n",
    "        V_new = np.product(box_size_new)\n",
    "        \n",
    "        # update particle locations:\n",
    "        part_locs_new = part_locs * box_size_new / box_size\n",
    "    \n",
    "        # calculate new potential and virial for all particles\n",
    "        u_new, w_new = lennard_jones(part_locs_new, u, w, part_moved=None)\n",
    "        \n",
    "        delta_u = np.sum(u_new - u)\n",
    "        virial = -np.sum(w_new) / 3\n",
    "        P = n_parts / V_new / beta + virial/V_new\n",
    "        \n",
    "        alpha = np.exp(-beta * (delta_u + P * (V_new - V) - n_parts * (1/beta) * np.log(V_new / V)))\n",
    "    \n",
    "        \n",
    "#     # accept or reject move?\n",
    "#     alpha_choices = [alpha, 1]\n",
    "#     prob = min(alpha_choices)\n",
    "#     if prob < 1:\n",
    "#         rand_num = np.random.rand()\n",
    "#         if rand_num < \n",
    "    \n",
    "    print(alpha)\n",
    "    break\n",
    "    "
   ]
  },
  {
   "cell_type": "code",
   "execution_count": 44,
   "metadata": {},
   "outputs": [
    {
     "name": "stdout",
     "output_type": "stream",
     "text": [
      "(256, 3)\n",
      "(255,)\n"
     ]
    },
    {
     "data": {
      "text/plain": [
       "array([2.63629317, 2.97671321, 1.4767647 , 2.97580135, 2.75567902,\n",
       "       2.31078983, 1.38428225, 1.31887321, 2.44838287, 1.27553513,\n",
       "       2.91974039, 1.5171399 , 2.26557768, 2.37815481, 2.62322747,\n",
       "       1.14701455, 2.57530043, 2.48526389, 2.86522746, 2.74893139,\n",
       "       2.79790174, 2.55575077, 2.06163841, 2.51630649, 2.88869456,\n",
       "       1.98102484, 2.17472427, 2.60359102, 1.32472495, 2.77465433,\n",
       "       2.90019389, 2.74940079, 2.90018527, 2.616896  , 2.75389274,\n",
       "       2.22424258, 2.01947872, 2.60266949, 2.42807214, 2.41003294,\n",
       "       2.88283672, 2.14781851, 1.21543555, 1.62664323, 2.53952143,\n",
       "       2.92294253, 2.3324331 , 2.95856852, 2.9614858 , 2.22504006,\n",
       "       1.56004777, 1.28256025, 2.3396715 , 2.14330775])"
      ]
     },
     "execution_count": 44,
     "metadata": {},
     "output_type": "execute_result"
    }
   ],
   "source": [
    "part_locs\n",
    "print(np.shape(part_locs))\n",
    "i = 0\n",
    "dr = part_locs[i,:] - part_locs[(i+1):,:] \n",
    "dr -= np.around(dr / box_size) * box_size \n",
    "r_ij = np.sqrt(np.sum(dr**2, axis=1))\n",
    "print(np.shape(r_ij))\n",
    "r_ij[np.where(r_ij <= 3)[0]]\n"
   ]
  },
  {
   "cell_type": "code",
   "execution_count": 32,
   "metadata": {},
   "outputs": [
    {
     "data": {
      "text/plain": [
       "array([7.55239115, 7.57156234, 7.59008687])"
      ]
     },
     "execution_count": 32,
     "metadata": {},
     "output_type": "execute_result"
    }
   ],
   "source": [
    "box_size_new = box_size * 0.95\n",
    "box_size_old = box_size\n",
    "part_locs_new = box_size_new / box_size_old * part_locs\n",
    "part_locs_new\n",
    "part_locs_new.max(axis=0)"
   ]
  },
  {
   "cell_type": "code",
   "execution_count": 30,
   "metadata": {},
   "outputs": [
    {
     "data": {
      "text/plain": [
       "array([7.6, 7.6, 7.6])"
      ]
     },
     "execution_count": 30,
     "metadata": {},
     "output_type": "execute_result"
    }
   ],
   "source": [
    "box_size_new"
   ]
  },
  {
   "cell_type": "code",
   "execution_count": null,
   "metadata": {},
   "outputs": [],
   "source": []
  }
 ],
 "metadata": {
  "kernelspec": {
   "display_name": "Python 3",
   "language": "python",
   "name": "python3"
  },
  "language_info": {
   "codemirror_mode": {
    "name": "ipython",
    "version": 3
   },
   "file_extension": ".py",
   "mimetype": "text/x-python",
   "name": "python",
   "nbconvert_exporter": "python",
   "pygments_lexer": "ipython3",
   "version": "3.6.8"
  }
 },
 "nbformat": 4,
 "nbformat_minor": 2
}
